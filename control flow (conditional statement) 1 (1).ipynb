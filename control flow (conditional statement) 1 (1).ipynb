{
 "cells": [
  {
   "cell_type": "code",
   "execution_count": 1,
   "id": "5eaea823-1f3f-436a-a275-af68c9d0a248",
   "metadata": {},
   "outputs": [
    {
     "name": "stdin",
     "output_type": "stream",
     "text": [
      "enter the number :  8\n"
     ]
    },
    {
     "name": "stdout",
     "output_type": "stream",
     "text": [
      "8 is positive\n"
     ]
    }
   ],
   "source": [
    "number = int(input(\"enter the number : \"))\n",
    "if number>0:\n",
    "   print(number,\"is positive\")\n",
    "else:\n",
    "    print(number, \"is negative or zero\")\n",
    "    "
   ]
  },
  {
   "cell_type": "code",
   "execution_count": 5,
   "id": "61f529e1-2d94-4b8e-a910-fcf736c87c17",
   "metadata": {},
   "outputs": [
    {
     "name": "stdin",
     "output_type": "stream",
     "text": [
      "enter the number :  -9\n"
     ]
    },
    {
     "name": "stdout",
     "output_type": "stream",
     "text": [
      "-9 is negative\n"
     ]
    }
   ],
   "source": [
    "number = int(input(\"enter the number : \"))\n",
    "if number>0:\n",
    "   print(number,\"is positive\")\n",
    "elif number<0:\n",
    "    print(number, \"is negative\")\n",
    "else:\n",
    "    print(number, \"is zero\")"
   ]
  },
  {
   "cell_type": "code",
   "execution_count": 7,
   "id": "5b5aae4a-bdcd-4cab-90f1-b5f70c241404",
   "metadata": {},
   "outputs": [
    {
     "name": "stdin",
     "output_type": "stream",
     "text": [
      "enter the number :  14\n"
     ]
    },
    {
     "name": "stdout",
     "output_type": "stream",
     "text": [
      "14 is even number\n"
     ]
    }
   ],
   "source": [
    "number = int(input(\"enter the number : \"))\n",
    "if number%2==0:\n",
    "   print(number,\"is even number\")\n",
    "else:\n",
    "    print(number,\"is odd number\")"
   ]
  },
  {
   "cell_type": "code",
   "execution_count": 15,
   "id": "1bd6e32c-e3c3-4682-8a90-5a1e635195f7",
   "metadata": {},
   "outputs": [
    {
     "name": "stdin",
     "output_type": "stream",
     "text": [
      "enter the number :  49\n"
     ]
    },
    {
     "name": "stdout",
     "output_type": "stream",
     "text": [
      "49 is divisible by 7 number\n"
     ]
    }
   ],
   "source": [
    "#Check whether the number is divisible by 7\n",
    "number = int(input(\"enter the number : \"))\n",
    "if number%7==0:\n",
    "   print(number,\"is divisible by 7 number\")\n",
    "else:\n",
    "    print(number,\"is not divisible by 7 number\")"
   ]
  },
  {
   "cell_type": "code",
   "execution_count": 17,
   "id": "97d878e0-e4d7-4e98-8f29-f1a00744b056",
   "metadata": {},
   "outputs": [
    {
     "name": "stdin",
     "output_type": "stream",
     "text": [
      "enter the number :  40\n"
     ]
    },
    {
     "name": "stdout",
     "output_type": "stream",
     "text": [
      "40 is even number\n"
     ]
    }
   ],
   "source": [
    "#Check whether the given number is even or odd\n",
    "number = int(input(\"enter the number : \"))\n",
    "if number%2==0:\n",
    "   print(number,\"is even number\")\n",
    "else:\n",
    "    print(number,\"is odd number\")"
   ]
  },
  {
   "cell_type": "code",
   "execution_count": 21,
   "id": "ab2a5218-c317-47de-9ff4-c3a160fc21f6",
   "metadata": {},
   "outputs": [
    {
     "name": "stdin",
     "output_type": "stream",
     "text": [
      "enter the number :  30\n"
     ]
    },
    {
     "name": "stdout",
     "output_type": "stream",
     "text": [
      "30 is positive\n"
     ]
    }
   ],
   "source": [
    "#Check whether the given number is positive, negative or equal to zero(input)\n",
    "number = int(input(\"enter the number : \"))\n",
    "if number>0:\n",
    "   print(number,\"is positive\")\n",
    "elif number<0:\n",
    "    print(number, \"is negative\")\n",
    "else:\n",
    "    print(number, \"is zero\")"
   ]
  },
  {
   "cell_type": "code",
   "execution_count": 39,
   "id": "395cf11c-2e4b-471d-8649-408b680be712",
   "metadata": {},
   "outputs": [
    {
     "name": "stdin",
     "output_type": "stream",
     "text": [
      "enter the first number:  100\n",
      "enter the second number:  200\n",
      "enter the third number:  300\n"
     ]
    },
    {
     "name": "stdout",
     "output_type": "stream",
     "text": [
      "300.0 is the largest\n"
     ]
    }
   ],
   "source": [
    "#Find the largest number among three number with user input\n",
    "number1=float(input(\"enter the first number: \"))\n",
    "number2=float(input(\"enter the second number: \"))\n",
    "number3=float(input(\"enter the third number: \"))\n",
    "if number1 > number2 and number1 > number3:\n",
    "    print(number1,\"is the largest\")\n",
    "elif number2 > number1 and number2 > number3:\n",
    "    print(number2,\"is the largest\")\n",
    "else:\n",
    "    print(number3,\"is the largest\")  "
   ]
  },
  {
   "cell_type": "code",
   "execution_count": 41,
   "id": "1c485f53-c11b-496e-9250-f4c72624b902",
   "metadata": {},
   "outputs": [
    {
     "name": "stdin",
     "output_type": "stream",
     "text": [
      "enter the number :  2008\n"
     ]
    },
    {
     "name": "stdout",
     "output_type": "stream",
     "text": [
      "2008 is a leap year\n"
     ]
    }
   ],
   "source": [
    "#Check whether year is leap year or not\n",
    "year = int(input(\"enter the number : \"))\n",
    "if year % 4==0 and year % 100 !=0 or year % 400==0:\n",
    "    print(year,\"is a leap year\")\n",
    "else:\n",
    "    print(year,\"is not a leap year\")"
   ]
  },
  {
   "cell_type": "code",
   "execution_count": 45,
   "id": "efc852dc-9075-4e54-b7c3-73e5f1e0dd8a",
   "metadata": {},
   "outputs": [
    {
     "name": "stdin",
     "output_type": "stream",
     "text": [
      "enter the total number of working days :  365\n",
      "enter the total number of present days :  250\n"
     ]
    },
    {
     "name": "stdout",
     "output_type": "stream",
     "text": [
      "students will not be able to sit in exam\n"
     ]
    }
   ],
   "source": [
    "#Accept the following from the user and calculate the percentage of class attended\n",
    "totalworkingdays = int(input(\"enter the total number of working days : \"))\n",
    "totalpresentdays = int(input(\"enter the total number of present days : \"))\n",
    "percentage = (totalpresentdays/totalworkingdays) * 100\n",
    "if percentage <75:\n",
    "    print(\"students will not be able to sit in exam\")\n",
    "else:\n",
    "    print(\"students elegiable to sit in the exam\")"
   ]
  },
  {
   "cell_type": "code",
   "execution_count": 72,
   "id": "81a8a5fe-745e-4b0f-b69a-09284f3a9dcf",
   "metadata": {},
   "outputs": [
    {
     "name": "stdin",
     "output_type": "stream",
     "text": [
      "enter the letter :  karthik\n"
     ]
    },
    {
     "name": "stdout",
     "output_type": "stream",
     "text": [
      "karthik is not a vowel\n"
     ]
    }
   ],
   "source": [
    "#Check whether the letter is vowel or not\n",
    "vowel = ['a','e','i','o','u','A','E','I','O','U']\n",
    "letter = str(input(\"enter the letter : \"))\n",
    "if letter in vowel:\n",
    "    print(letter,\"is a vowel\")\n",
    "else:\n",
    "    print(letter,\"is not a vowel\")"
   ]
  },
  {
   "cell_type": "code",
   "execution_count": 84,
   "id": "526e6fce-8b72-438d-9def-ecd4bb77b84b",
   "metadata": {},
   "outputs": [
    {
     "name": "stdin",
     "output_type": "stream",
     "text": [
      "enter the number from 1 to 7 :  2\n"
     ]
    },
    {
     "name": "stdout",
     "output_type": "stream",
     "text": [
      "monday\n"
     ]
    }
   ],
   "source": [
    "#Write a program to accept the number from 1 to 7\n",
    "daynumber = int(input(\"enter the number from 1 to 7 : \"))\n",
    "if daynumber ==1:\n",
    "   print(\"sunday\")\n",
    "elif daynumber ==2:\n",
    "   print(\"monday\")\n",
    "elif daynumber ==3:\n",
    "   print(\"tuesday\")\n",
    "elif daynumber ==4:\n",
    "   print(\"wednesday\")\n",
    "elif daynumber ==5:\n",
    "   print(\"thursday\")\n",
    "elif daynumber ==6:\n",
    "   print(\"friday\")\n",
    "elif daynumber ==7:\n",
    "   print(\"saturday\")\n",
    "else:\n",
    "    print(\"please enter a number between 1 to 7\")"
   ]
  },
  {
   "cell_type": "code",
   "execution_count": 90,
   "id": "16ed3622-e44a-4e5d-bd36-eefee2233ff5",
   "metadata": {},
   "outputs": [
    {
     "name": "stdin",
     "output_type": "stream",
     "text": [
      "enter the name of the city(Delhi,Agra,Jaipur) Delhi\n"
     ]
    },
    {
     "name": "stdout",
     "output_type": "stream",
     "text": [
      "red fort\n"
     ]
    }
   ],
   "source": [
    "#Accept any city from the user and display monument of that city\n",
    "city =input(\"enter the name of the city\")\n",
    "if city ==\"Delhi\":\n",
    "   print(\"red fort\")\n",
    "elif city ==\"Agra\":\n",
    "    print(\"taj mahal\")\n",
    "elif city ==\"Jaipur\":\n",
    "    print(\"jal mahal\")\n",
    "else:\n",
    "    print(\"please enter the name of Delhi, Agra or Jaipur\")"
   ]
  },
  {
   "cell_type": "code",
   "execution_count": 92,
   "id": "068bb1fb-9d1a-4b6e-86a5-4fe572b93d2d",
   "metadata": {},
   "outputs": [
    {
     "name": "stdin",
     "output_type": "stream",
     "text": [
      "enter the persons age  :  20\n"
     ]
    },
    {
     "name": "stdout",
     "output_type": "stream",
     "text": [
      "person is eligible to vote\n"
     ]
    }
   ],
   "source": [
    "#Check whether the person is eligible for voting or not\n",
    "age = int(input(\"enter the persons age  : \"))\n",
    "if age > 18:\n",
    "    print(\"person is eligible to vote\")\n",
    "else:\n",
    "    print(\"person is not eligible to vote\")"
   ]
  },
  {
   "cell_type": "code",
   "execution_count": 96,
   "id": "b7bf1545-4990-4ba1-ad26-40fc564cab86",
   "metadata": {},
   "outputs": [
    {
     "name": "stdout",
     "output_type": "stream",
     "text": [
      "'a'is not a string\n"
     ]
    }
   ],
   "source": [
    "#check whether 'a' is in 'Python' string or not\n",
    "string = \"python\"\n",
    "if 'a' in string:\n",
    "    print(\"'a'in the string\")\n",
    "else:\n",
    "    print(\"'a'is not a string\")"
   ]
  },
  {
   "cell_type": "code",
   "execution_count": 100,
   "id": "40814cfc-1fea-477d-ae09-3674d2fe02fa",
   "metadata": {},
   "outputs": [
    {
     "name": "stdin",
     "output_type": "stream",
     "text": [
      "enter the length:  4\n",
      "enter the breadth :  4\n"
     ]
    },
    {
     "name": "stdout",
     "output_type": "stream",
     "text": [
      "The figure is a square\n"
     ]
    }
   ],
   "source": [
    "#Check whether the figure is square or not by giving length and breadth\n",
    "length = int(input(\"enter the length: \"))\n",
    "breadth = int(input(\"enter the breadth : \"))\n",
    "if length == breadth:\n",
    "    print(\"The figure is a square\")\n",
    "else:\n",
    "    print(\"The figure is not a square\")"
   ]
  },
  {
   "cell_type": "code",
   "execution_count": 110,
   "id": "d7e933cf-aeb9-4585-9456-c2ea43b4deb7",
   "metadata": {},
   "outputs": [
    {
     "name": "stdin",
     "output_type": "stream",
     "text": [
      "choose an operation *\n",
      "enter the first number:  5\n",
      "enter the second number:  5\n"
     ]
    },
    {
     "name": "stdout",
     "output_type": "stream",
     "text": [
      "25\n"
     ]
    }
   ],
   "source": [
    "#Make a simple calculator using input\n",
    "operation = str(input(\"choose an operation\"))\n",
    "num1 = int(input(\"enter the first number: \"))\n",
    "num2  = int(input(\"enter the second number: \"))\n",
    "if operation == '+':\n",
    "    print(num1+num2)\n",
    "elif operation == '-':\n",
    "    print(num1-num2)\n",
    "elif operation == '*':\n",
    "    print(num1*num2)\n",
    "elif operation == '/':\n",
    "    print(num1/num2)\n",
    "else:\n",
    "    print(\"Please enter the number\")"
   ]
  },
  {
   "cell_type": "code",
   "execution_count": 30,
   "id": "01dbd8dd-6a62-479e-b10b-c1c37da44270",
   "metadata": {},
   "outputs": [
    {
     "name": "stdin",
     "output_type": "stream",
     "text": [
      "enter the name of the percentage:  88\n"
     ]
    },
    {
     "name": "stdout",
     "output_type": "stream",
     "text": [
      "A+\n"
     ]
    }
   ],
   "source": [
    "#Accept the percentage from the user and display the grade according to the following criteria\n",
    "percentage = int(input(\"enter the name of the percentage: \"))\n",
    "if percentage <25:\n",
    "    print('D')\n",
    "elif 25 < percentage < 45:\n",
    "    print('C')\n",
    "elif 45 < percentage < 50:\n",
    "    print('B')\n",
    "elif 50 < percentage < 60:\n",
    "    print('B+')\n",
    "elif 60 < percentage < 80:\n",
    "    print('A')\n",
    "elif percentage >= 80:\n",
    "    print('A+')\n",
    "else:\n",
    "    print(\"please enter the percentage\")"
   ]
  },
  {
   "cell_type": "code",
   "execution_count": 5,
   "id": "fd7eaed1-c19f-4442-8c0c-09d851f8fc14",
   "metadata": {},
   "outputs": [
    {
     "name": "stdin",
     "output_type": "stream",
     "text": [
      "enter the first side:  20\n",
      "enter the second side:  20\n",
      "enter the third side:  20\n"
     ]
    },
    {
     "name": "stdout",
     "output_type": "stream",
     "text": [
      "equilateral triangle\n"
     ]
    }
   ],
   "source": [
    "#Accept three sides of a triangle and check whether it is an equilateral, isosceles or scalene triangle\n",
    "side1=float(input(\"enter the first side: \"))\n",
    "side2=float(input(\"enter the second side: \"))\n",
    "side3=float(input(\"enter the third side: \"))\n",
    "if side1==side2==side3:\n",
    "    print(\"equilateral triangle\")\n",
    "elif side1!=side2!=side3: \n",
    "    print(\"scalene triangle\")\n",
    "elif side1==side2 or side1 ==side3:\n",
    "    print(\"iscoceles triangle\")\n",
    "else:\n",
    "    print(\"please enter the values\")"
   ]
  },
  {
   "cell_type": "code",
   "execution_count": 26,
   "id": "13153669-a0c8-417e-8ece-e16924b0dee9",
   "metadata": {},
   "outputs": [
    {
     "name": "stdin",
     "output_type": "stream",
     "text": [
      "enter the first side:  30\n",
      "enter the second side:  40\n",
      "enter the third side:  80\n"
     ]
    },
    {
     "name": "stdout",
     "output_type": "stream",
     "text": [
      "the triangle is possible\n"
     ]
    }
   ],
   "source": [
    "#Accept three sides of triangle and check whether the triangle is possible or not\n",
    "side1=float(input(\"enter the first side: \"))\n",
    "side2=float(input(\"enter the second side: \"))\n",
    "side3=float(input(\"enter the third side: \"))\n",
    "if side1+side2 or side1+side3 or side2+side3 or side3+side1 or side3+side2:\n",
    "    print(\"the triangle is possible\")\n",
    "else:\n",
    "    print(\"the triangle is not possible\")"
   ]
  },
  {
   "cell_type": "code",
   "execution_count": 24,
   "id": "15a6fffd-b4ef-4e5e-9dc0-e97cabcb7b1c",
   "metadata": {},
   "outputs": [
    {
     "name": "stdout",
     "output_type": "stream",
     "text": [
      "the strings are anagram\n"
     ]
    }
   ],
   "source": [
    "#Check if two strings are anagram or not. (care = race)\n",
    "str1 = \"care\"\n",
    "str2 = \"race\"\n",
    "sorted (str1)== sorted (str2)\n",
    "if len(str1) == len(str2):\n",
    "    print(\"the strings are anagram\")\n",
    "else:\n",
    "    print(\"the strings are not anagram\")"
   ]
  },
  {
   "cell_type": "code",
   "execution_count": 40,
   "id": "99fed36f-dd90-43e2-85d5-8d111b8d8a61",
   "metadata": {},
   "outputs": [
    {
     "name": "stdin",
     "output_type": "stream",
     "text": [
      "enter the value :  name\n"
     ]
    },
    {
     "name": "stdout",
     "output_type": "stream",
     "text": [
      "key is present in dictionary\n"
     ]
    }
   ],
   "source": [
    "#Check whether the given key is present in the dictionary or not\n",
    "my_dict={\"name\":\"karthik\",\"age\":\"21\",\"city\":\"mumbai\",\"profession\":\"student\"}\n",
    "key=str(input(\"enter the value : \"))\n",
    "if key in my_dict:\n",
    "    print(\"key is present in dictionary\")\n",
    "else:\n",
    "    print(\"key is not present in dictionary\")"
   ]
  },
  {
   "cell_type": "code",
   "execution_count": 54,
   "id": "932ccbb5-94bb-4bdc-b223-b110d79d5382",
   "metadata": {},
   "outputs": [
    {
     "name": "stdin",
     "output_type": "stream",
     "text": [
      "enter a number:  444\n"
     ]
    },
    {
     "name": "stdout",
     "output_type": "stream",
     "text": [
      "number entered is a three digit no\n"
     ]
    }
   ],
   "source": [
    "#Write a program to check whether the number entered is three digit or not\n",
    "num =float(input(\"enter a number: \"))\n",
    "if num>=100 and num<=999:\n",
    "    print(\"number entered is a three digit no\")\n",
    "else:\n",
    "    print(\"number entered is not a three digit no\")"
   ]
  },
  {
   "cell_type": "code",
   "execution_count": 17,
   "id": "0e2698a4-7541-471d-9f70-959b6a4aca65",
   "metadata": {},
   "outputs": [
    {
     "name": "stdin",
     "output_type": "stream",
     "text": [
      "enter the number of electric units :  350\n"
     ]
    },
    {
     "name": "stdout",
     "output_type": "stream",
     "text": [
      "units\n",
      "total amount = 650.0\n"
     ]
    }
   ],
   "source": [
    "#Accept the electric units from user and calculate the bill according to the following rates.\n",
    "units =float(input(\"enter the number of electric units : \"))\n",
    "if units<=100:\n",
    "    print(0)\n",
    "elif units<=300:\n",
    "    print(units-100)*2\n",
    "else:\n",
    "   amount = 0 + 400 + (units-300)*5\n",
    "print(\"units\")\n",
    "print(\"total amount =\", amount)"
   ]
  },
  {
   "cell_type": "code",
   "execution_count": 29,
   "id": "7747b511-96c4-4bc0-82d3-774232be08ae",
   "metadata": {},
   "outputs": [
    {
     "name": "stdin",
     "output_type": "stream",
     "text": [
      "enter the age :  25\n",
      "enter ('M'/'F') M\n",
      "enter the number of days worked :  20\n"
     ]
    },
    {
     "name": "stdout",
     "output_type": "stream",
     "text": [
      "persons sex is:  M\n",
      "persons days is:  20.0\n",
      "persons wages is:  14000.0\n"
     ]
    }
   ],
   "source": [
    "#Accept the age, sex (‘M’, ‘F’), number of days and display the wages accordingly\r",
    "age =float(input(\"enter the age : \"))\n",
    "sex =input(\"enter ('M'/'F')\")\n",
    "days=float(input(\"enter the number of days worked : \"))\n",
    "if age>=18 and age<30:\n",
    "    if sex =='M':\n",
    "        wages=700*days\n",
    "    elif sex =='F':\n",
    "        wages=750*days \n",
    "    else :\n",
    "        print(\"please enter the appropriate age: \")\n",
    "elif age>=30 and age<=40:\n",
    "    if sex =='M':\n",
    "        wages=800*days\n",
    "    elif sex =='F':\n",
    "       wages=850*days\n",
    "    else:\n",
    "       print(\"please enter the appropriate age: \")\n",
    "else:\n",
    "   print(\"persons age is: \", age)\n",
    "print(\"persons sex is: \", sex)\n",
    "print(\"persons days is: \", days)\n",
    "print(\"persons wages is: \", wages)"
   ]
  },
  {
   "cell_type": "code",
   "execution_count": 31,
   "id": "0b14556a-585f-4bfb-8012-4377d6f860e0",
   "metadata": {},
   "outputs": [
    {
     "name": "stdin",
     "output_type": "stream",
     "text": [
      "enter the first number  :  30\n",
      "enter the second number  :  40\n",
      "enter the third number  :  50\n"
     ]
    },
    {
     "name": "stdout",
     "output_type": "stream",
     "text": [
      "num2 as second largest number\n"
     ]
    }
   ],
   "source": [
    "#Accept three numbers from the user and display the second largest number.\n",
    "num1 =float(input(\"enter the first number  : \"))\n",
    "num2 =float(input(\"enter the second number  : \"))\n",
    "num3 =float(input(\"enter the third number  : \"))\n",
    "if num1>=num2>=num3 or num3>=num2>=num1:\n",
    "    print(\"num2 as second largest number\")\n",
    "elif num3>=num1>=num2 or num2>=num1>=num3:\n",
    "    print(\"num1 as second largest number\")\n",
    "else:\n",
    "    print(\"num3 as second largest number\")"
   ]
  },
  {
   "cell_type": "code",
   "execution_count": 33,
   "id": "7b0b032f-e5f1-4284-9a3a-ce09f092f7dd",
   "metadata": {},
   "outputs": [
    {
     "name": "stdin",
     "output_type": "stream",
     "text": [
      "enter the number of days  :  20\n"
     ]
    },
    {
     "name": "stdout",
     "output_type": "stream",
     "text": [
      "number of days  20.0\n",
      "charge for libaray 100.0\n"
     ]
    }
   ],
   "source": [
    "#Accept the number of days from the user and calculate the charge for library according to following\n",
    "days=float(input(\"enter the number of days  : \"))\n",
    "if days<=5:\n",
    "    charge =days*2\n",
    "elif 5<days and days<=10:\n",
    "    charge = days*3\n",
    "elif 11<=days and days<=15:\n",
    "    charge = days*4\n",
    "else:\n",
    "    charge=days*5\n",
    "print(\"number of days \", days)\n",
    "print(\"charge for libaray\", charge )\n",
    "    "
   ]
  },
  {
   "cell_type": "code",
   "execution_count": null,
   "id": "2e311caa-aaef-4671-abb8-7b50572d0554",
   "metadata": {},
   "outputs": [],
   "source": []
  }
 ],
 "metadata": {
  "kernelspec": {
   "display_name": "Python 3 (ipykernel)",
   "language": "python",
   "name": "python3"
  },
  "language_info": {
   "codemirror_mode": {
    "name": "ipython",
    "version": 3
   },
   "file_extension": ".py",
   "mimetype": "text/x-python",
   "name": "python",
   "nbconvert_exporter": "python",
   "pygments_lexer": "ipython3",
   "version": "3.12.4"
  }
 },
 "nbformat": 4,
 "nbformat_minor": 5
}
